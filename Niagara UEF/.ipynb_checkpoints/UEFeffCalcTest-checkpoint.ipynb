{
 "cells": [
  {
   "cell_type": "code",
   "execution_count": 1,
   "metadata": {},
   "outputs": [],
   "source": [
    "import pandas as pd\n",
    "import os\n",
    "import numpy as np\n",
    "from math import isclose\n",
    "import matplotlib.pyplot as plt"
   ]
  },
  {
   "cell_type": "code",
   "execution_count": 2,
   "metadata": {},
   "outputs": [],
   "source": [
    "def find_nearest(array, value):\n",
    "    idx = np.searchsorted(array, value, side=\"left\")\n",
    "    try: \n",
    "        if isclose(array[idx], value, abs_tol=1):\n",
    "            return idx\n",
    "    except:\n",
    "        pass\n",
    "    return idx-1"
   ]
  },
  {
   "cell_type": "code",
   "execution_count": 3,
   "metadata": {},
   "outputs": [],
   "source": [
    "fileNameC = 'RST4 ICN 10289 RTGH-S11iS1-6882.SM22014.csv'\n",
    "fileNameV = 'VST4 ICN 10289 RTGH-S11iS1-6882.SM22014.csv'\n",
    "fileNameE = 'EST4 ICN 10289 RTGH-S11iS1-6882.SM22014.csv'\n",
    "dfC = pd.read_csv(fileNameC)\n",
    "#fileNameC = pd.read_csv(fileNameC)\n",
    "dfV = pd.read_csv(fileNameV)\n",
    "dfE = pd.read_csv(fileNameE)\n",
    "\n",
    "def find_nearest(array, value):\n",
    "    idx = np.searchsorted(array, value, side=\"left\")\n",
    "    try: \n",
    "        if isclose(array[idx], value, abs_tol=1):\n",
    "            return idx\n",
    "    except:\n",
    "        pass\n",
    "    return idx-1"
   ]
  },
  {
   "cell_type": "code",
   "execution_count": 4,
   "metadata": {},
   "outputs": [],
   "source": [
    "xls = pd.ExcelFile('UEF analysis for Anes.xlsx')\n",
    "dfZ = pd.read_excel(xls, 'Sheet3', skiprows=6, index_col=None, usecols = 'A,B,D', names = ['T','Cp','Density'])"
   ]
  },
  {
   "cell_type": "code",
   "execution_count": 5,
   "metadata": {},
   "outputs": [],
   "source": [
    "dfC['Draw no']=(dfC['Drain Valve'].diff()==1).cumsum()\n",
    "dfC['Draw no']=np.where(dfC['Drain Valve']==0,0,dfC['Draw no'])\n",
    "\n",
    "dfC['Purge no']=(dfC['Purge Valve'].diff()==1).cumsum()\n",
    "dfC['Purge no']=np.where(dfC['Purge Valve']==0,0,dfC['Purge no'])"
   ]
  },
  {
   "cell_type": "code",
   "execution_count": 6,
   "metadata": {},
   "outputs": [],
   "source": [
    "#Extracting indeces from CUT OUT before Draw 1 start to CUT OUT after Draw 1 start\n",
    "idxOfFirstDraw = dfE.loc[dfE['Desc'].str.contains('Starting Draw # 1 '), 'Unnamed: 0'].values\n",
    "cutOne = cutTwo = 0\n",
    "for i in dfE['Unnamed: 0']:\n",
    "    cut = dfE['Desc'].loc[dfE['Unnamed: 0']==i].values\n",
    "    if 'Cut OUT' in cut[0] and cutOne==0:\n",
    "        cutOne = dfE['TimeStamp'].loc[dfE['Unnamed: 0']==i].values\n",
    "        cutOne = cutOne[0]\n",
    "    elif 'Cut OUT' in cut[0] and i>idxOfFirstDraw[0]:\n",
    "        cutTwo = dfE['TimeStamp'].loc[dfE['Unnamed: 0']==i].values\n",
    "        cutTwo = cutTwo[0]\n",
    "        break\n",
    "idxOne = find_nearest(dfC['TimeStamp (sec)'].values, cutOne)\n",
    "idxTwo = find_nearest(dfC['TimeStamp (sec)'].values, cutTwo)"
   ]
  },
  {
   "cell_type": "code",
   "execution_count": 27,
   "metadata": {},
   "outputs": [
    {
     "name": "stdout",
     "output_type": "stream",
     "text": [
      "Gas Temp 1: 71.65700546448073\n",
      "\n",
      "CF 1: 0.9832410852668488\n"
     ]
    }
   ],
   "source": [
    "#Calculating Correction Factor 1\n",
    "GasPressure = float(dfV.loc[dfV['Variable'].str.contains('Gas Pressure'), 'Value'].values)\n",
    "dfC.loc[0, 'Gas Pressure'] = GasPressure\n",
    "Barometer1 = dfC.loc[dfC['Draw no']==1, 'Barometer'].mean()\n",
    "GasTemp1 = dfC.loc[dfC['Draw no']==1, 'Gas TC'].mean()\n",
    "print('Gas Temp 1:', GasTemp1)\n",
    "Correction_fact1 = (GasPressure*0.0735+Barometer1)*519.67/(30*(459.67+GasTemp1))\n",
    "dfC.loc[0, 'Correction Factor (1)'] = Correction_fact1\n",
    "print('\\nCF 1:', Correction_fact1)"
   ]
  },
  {
   "cell_type": "code",
   "execution_count": 28,
   "metadata": {},
   "outputs": [
    {
     "name": "stdout",
     "output_type": "stream",
     "text": [
      "Barometer: 29.576731307206096\n",
      "Gas Temp: 71.17704045512019\n",
      "\n",
      "CF: 0.9857725443283355\n"
     ]
    }
   ],
   "source": [
    "#Calculating Correction Factor\n",
    "Barometer = dfC['Barometer'].mean() #3rd digit wrong\n",
    "print('Barometer:', Barometer)\n",
    "GasTemp = dfC['Gas TC'].mean()\n",
    "print('Gas Temp:', GasTemp)\n",
    "Correction_fact = (GasPressure*0.0735+Barometer)*520/(30*(460+GasTemp))\n",
    "dfC.loc[0, 'Correction Factor'] = Correction_fact\n",
    "print('\\nCF:', Correction_fact)"
   ]
  },
  {
   "cell_type": "code",
   "execution_count": 29,
   "metadata": {},
   "outputs": [
    {
     "name": "stdout",
     "output_type": "stream",
     "text": [
      "Gas Consumption 1: 15.0\n",
      "HHV: 1022.38\n",
      "CF 1: 0.9832410852668488\n",
      "GasMeterCorrection: 0.997946\n",
      "PowerConsumption 1: 4.663648866\n",
      "\n",
      "Qr: 15063.631051358141\n"
     ]
    }
   ],
   "source": [
    "#Calculating Qr (Q1)\n",
    "idx1 = dfC.index[dfC['Draw no']==1][0]\n",
    "idx2 = dfC.index[dfC['Draw no']==2][0]\n",
    "\n",
    "GasConsumption1 = max(dfC.loc[idx1:idx2, 'Gas ascf'])\n",
    "print('Gas Consumption 1:', GasConsumption1)\n",
    "HHV = float(dfV.loc[dfV['Variable'].str.contains('HHV'), 'Value'].values)\n",
    "print('HHV:', HHV)\n",
    "dfC.loc[0, 'High Heating Value'] = HHV\n",
    "print('CF 1:', Correction_fact1)\n",
    "GasMeterCorrection = float(dfV.loc[dfV['Variable'].str.contains('GP Correction Factor '), 'Value'].values[0])\n",
    "print('GasMeterCorrection:',GasMeterCorrection)\n",
    "PowerConsumption1 = dfC.loc[idx1:idxTwo, 'WattHrs'].max()\n",
    "print('PowerConsumption 1:',PowerConsumption1)\n",
    "Qr = GasConsumption1*HHV*Correction_fact1*GasMeterCorrection + PowerConsumption1*3.412\n",
    "dfC.loc[0, 'Qr'] = Qr\n",
    "#Qr = Qr*3412/1000 #1kWh = 3412Btu\n",
    "print('\\nQr:', Qr)"
   ]
  },
  {
   "cell_type": "code",
   "execution_count": 21,
   "metadata": {},
   "outputs": [
    {
     "name": "stdout",
     "output_type": "stream",
     "text": [
      "Gas Consumption: 47.1\n",
      "CF: 0.9857725443283355\n",
      "Power Consumption: 33.247303206\n",
      "Qf: 47484.9262030882\n"
     ]
    }
   ],
   "source": [
    "#Calculating Qf\n",
    "GasConsumption = dfC['Gas ascf'].max()\n",
    "print('Gas Consumption:', GasConsumption)\n",
    "print('CF:', Correction_fact)\n",
    "Qe=max(dfC['WattHrs'])\n",
    "dfC.loc[0, 'Qe'] = Qe\n",
    "#print('Qe:', Qe)\n",
    "PowerConsumption = Qe\n",
    "print('Power Consumption:', PowerConsumption)\n",
    "Qf = GasConsumption*HHV*Correction_fact*GasMeterCorrection + PowerConsumption*3.412\n",
    "dfC.loc[0, 'Qf'] = Qf\n",
    "#Qf = Qf*3412/1000 #1kWh = 3412Btu\n",
    "print('Qf:', Qf)"
   ]
  },
  {
   "cell_type": "code",
   "execution_count": 22,
   "metadata": {
    "scrolled": true
   },
   "outputs": [
    {
     "name": "stdout",
     "output_type": "stream",
     "text": [
      "1 222.56141609073742\n",
      "2 16.760332155181384\n",
      "3 8.463494486423121\n",
      "4 74.63000905571286\n",
      "5 124.16424817657325\n",
      "6 41.650444072372444\n",
      "7 8.462237359310999\n",
      "8 8.461479011982862\n",
      "9 8.379730841344136\n",
      "10 16.719550811728617\n",
      "11 16.717791064442952\n",
      "12 16.96834337630367\n",
      "13 16.84201102551847\n",
      "14 116.15865672795452\n"
     ]
    }
   ],
   "source": [
    "#Creating water mass column\n",
    "for idx in range(1,15):\n",
    "    if idx==1:\n",
    "        t1 = dfC.loc[dfC['Draw no']==idx, 'TimeStamp (sec)'].iloc[0]\n",
    "        tempIdx1 = find_nearest(dfC['TimeStamp (sec)'].values, t1+5)\n",
    "        #idx1 = dfC.index[dfC['Draw no']==idx][0]\n",
    "        idx2 = dfC.index[dfC['Draw no']==idx][-1]\n",
    "        Mass = dfC.loc[idx2, 'Drawn Water (Gallons)']\n",
    "        #print((dfC.loc[tempIdx1:idx2, 'Tout']).mean())\n",
    "        Tout = round((dfC.loc[tempIdx1:idx2, 'Tout']).mean(),1)\n",
    "        Density = dfZ.loc[dfZ['T']==Tout, 'Density'].values[0]\n",
    "        #print(idx, Density)\n",
    "        dfC.loc[idx, 'Mass Water'] = Mass*Density\n",
    "    else:\n",
    "        t1 = dfC.loc[dfC['Draw no']==idx, 'TimeStamp (sec)'].iloc[0]\n",
    "        tempIdx1 = find_nearest(dfC['TimeStamp (sec)'].values, t1+5)\n",
    "        idx1 = dfC.index[dfC['Draw no']==idx-1][-1]\n",
    "        idx2 = dfC.index[dfC['Draw no']==idx][-1]\n",
    "        Mass = dfC.loc[idx2, 'Drawn Water (Gallons)']-dfC.loc[idx1, 'Drawn Water (Gallons)']\n",
    "        Tout = round(dfC.loc[tempIdx1:idx2, 'Tout'].mean(),1)\n",
    "        #print(idx, Mass)\n",
    "        Density = dfZ.loc[dfZ['T']==Tout, 'Density'].values[0]\n",
    "        #print(idx, Density)\n",
    "        dfC.loc[idx, 'Mass Water'] = Mass*Density\n",
    "        \n",
    "    print(idx, dfC.loc[idx, 'Mass Water'])"
   ]
  },
  {
   "cell_type": "code",
   "execution_count": 23,
   "metadata": {},
   "outputs": [
    {
     "name": "stdout",
     "output_type": "stream",
     "text": [
      "Supply Water 1: 57.928176795580164\n",
      "Delivery Water 1: 124.87707182320455\n",
      "M1: 222.56141609073742\n",
      "Tdel+Tin/2: 91.4\n",
      "Cp1: 0.99827\n",
      "Tdelta1: 66.94889502762439\n",
      "Qr: 15063.631051358141\n",
      "\n",
      "Recovery eff: 0.9874420991603772\n"
     ]
    }
   ],
   "source": [
    "#Calculating Recovery Efficiency\n",
    "t1 = dfC.loc[dfC['Draw no']==1, 'TimeStamp (sec)'].iloc[0]\n",
    "idx1 = find_nearest(dfC['TimeStamp (sec)'].values, t1+5)\n",
    "idx2 = dfC.index[dfC['Draw no']==1][-1]\n",
    "\n",
    "Tin1 = dfC.loc[idx1:idx2, 'Tin'].mean()\n",
    "print('Supply Water 1:', Tin1)\n",
    "\n",
    "Tout1 = dfC.loc[idx1:idx2, 'Tout'].mean()\n",
    "print('Delivery Water 1:', Tout1)\n",
    "\n",
    "M1 = dfC.loc[1, 'Mass Water']\n",
    "print('M1:', M1)\n",
    "\n",
    "AvgTmp = round((Tout1+Tin1)/2,1)\n",
    "print('Tdel+Tin/2:', AvgTmp)\n",
    "\n",
    "Cp1 = dfZ.loc[dfZ['T']==AvgTmp, 'Cp'].values[0]\n",
    "print('Cp1:', Cp1)\n",
    "\n",
    "Tdelta1 = Tout1-Tin1\n",
    "print('Tdelta1:', Tdelta1)\n",
    "\n",
    "print('Qr:', Qr)\n",
    "\n",
    "Recovery_eff = M1*Cp1*Tdelta1/Qr\n",
    "print('\\nRecovery eff:', Recovery_eff)\n",
    "\n",
    "dfC.loc[0,'M1']=M1\n",
    "dfC.loc[0,'Tdelta1']=Tdelta1\n",
    "dfC.loc[0,'Cp1']=Cp1\n",
    "dfC.loc[0,'Recovery Efficiency']=Recovery_eff"
   ]
  },
  {
   "cell_type": "code",
   "execution_count": 24,
   "metadata": {},
   "outputs": [
    {
     "name": "stdout",
     "output_type": "stream",
     "text": [
      "Mi: 222.56141609073742\n",
      "Cpi: 0.99827\n",
      "Tdeltai: 66.94889502762439\n",
      "Qhw 1 : 15063.631051358141\n",
      "Mi: 16.760332155181384\n",
      "Cpi: 0.9983\n",
      "Tdeltai: 65.63571428571427\n",
      "Qhw 2 : 1112.1727985584369\n",
      "Mi: 8.463494486423121\n",
      "Cpi: 0.99829\n",
      "Tdeltai: 65.62142857142857\n",
      "Qhw 3 : 561.4879984282665\n",
      "Mi: 74.63000905571286\n",
      "Cpi: 0.99828\n",
      "Tdeltai: 65.79259259259237\n",
      "Qhw 4 : 4963.993747166122\n",
      "Mi: 124.16424817657325\n",
      "Cpi: 0.99828\n",
      "Tdeltai: 66.07647058823528\n",
      "Qhw 5 : 8294.383886417556\n",
      "Mi: 41.650444072372444\n",
      "Cpi: 0.9983\n",
      "Tdeltai: 65.28548387096772\n",
      "Qhw 6 : 2749.069346995329\n",
      "Mi: 8.462237359310999\n",
      "Cpi: 0.99836\n",
      "Tdeltai: 61.311904761904735\n",
      "Qhw 7 : 524.5725300003259\n",
      "Mi: 8.461479011982862\n",
      "Cpi: 0.99841\n",
      "Tdeltai: 58.078571428571436\n",
      "Qhw 8 : 496.8891228468322\n",
      "Mi: 8.379730841344136\n",
      "Cpi: 0.99829\n",
      "Tdeltai: 64.8119047619048\n",
      "Qhw 9 : 549.0728072847625\n",
      "Mi: 16.719550811728617\n",
      "Cpi: 0.99839\n",
      "Tdeltai: 58.66707317073169\n",
      "Qhw 10 : 991.7623356728271\n",
      "Mi: 16.717791064442952\n",
      "Cpi: 0.99828\n",
      "Tdeltai: 65.00476190476195\n",
      "Qhw 11 : 1098.663752206291\n",
      "Mi: 16.96834337630367\n",
      "Cpi: 0.9983\n",
      "Tdeltai: 65.07800000000003\n",
      "Qhw 12 : 1116.4083435727923\n",
      "Mi: 16.84201102551847\n",
      "Cpi: 0.9983\n",
      "Tdeltai: 64.85\n",
      "Qhw 13 : 1104.2142809451693\n",
      "Mi: 116.15865672795452\n",
      "Cpi: 0.99827\n",
      "Tdeltai: 66.7468750000001\n",
      "Qhw 14 : 7838.246175720386\n"
     ]
    }
   ],
   "source": [
    "#Calculate the following equations:\n",
    "#Qhw67i = Mi*Cpi*67/Recovery Efficiency\n",
    "#Qhwi = Mi*Cpi*Tdeltai/Recovery Efficiency\n",
    "#Qhwdi = Qhw67i-Qhwi\n",
    "Mii=dict()\n",
    "Cpii=dict()\n",
    "Tdeltaii=dict()\n",
    "Qhwii=dict()\n",
    "Qhw67ii=dict()\n",
    "Qhwdii=dict()\n",
    "        \n",
    "Qhw=0\n",
    "Qhw67=0\n",
    "\n",
    "for i in range(1,15):\n",
    "    Mi = dfC.loc[i, 'Mass Water']\n",
    "    print('Mi:', Mi)\n",
    "    \n",
    "    t1 = dfC.loc[dfC['Draw no']==i, 'TimeStamp (sec)'].iloc[0]\n",
    "    idx1 = find_nearest(dfC['TimeStamp (sec)'].values, t1+5)\n",
    "    idx2 = dfC.index[dfC['Draw no']==i][-1]\n",
    "    \n",
    "    AvgTmp = round((dfC.loc[idx1:idx2, 'Tout'].mean()+dfC.loc[idx1:idx2, 'Tin'].mean())/2,1)\n",
    "    Cpi = dfZ.loc[dfZ['T']==AvgTmp, 'Cp'].values[0]\n",
    "    dfC.loc[0, 'Cp('+str(i)+')']=Cpi\n",
    "    print('Cpi:', Cpi)\n",
    "    \n",
    "    Tdeltai = dfC.loc[idx1:idx2, 'Tout'].mean()-dfC.loc[idx1:idx2, 'Tin'].mean()\n",
    "    print('Tdeltai:', Tdeltai)\n",
    "    \n",
    "    Qhwi = Mi*Cpi*Tdeltai/Recovery_eff\n",
    "    Qhw += Qhwi\n",
    "    #dfC.loc[0, 'Qhw('+str(i)+')']=Qhwi\n",
    "    Qhw67i = Mi*Cpi*67/Recovery_eff\n",
    "    Qhw67 += Qhw67i\n",
    "    #dfC.loc[0, 'Qhw67('+str(i)+')']=Qhw67i\n",
    "    Qhwdi = Qhw67i-Qhwi\n",
    "    #dfC.loc[0, 'Qhwd('+str(i)+')']=Qhwdi\n",
    "    print('Qhw',i,':', Mi*Cpi*Tdeltai/Recovery_eff)\n",
    "    #print('Qhw67',i,':', Mi*Cpi*67/Recovery_eff)\n",
    "\n",
    "    Mii[i]=Mi\n",
    "    Cpii[i]=Cpi\n",
    "    Tdeltaii[i]=Tdeltai\n",
    "    Qhwii[i]=Qhwi\n",
    "    Qhw67ii[i]=Qhw67i\n",
    "    Qhwdii[i]=Qhwdi"
   ]
  },
  {
   "cell_type": "code",
   "execution_count": 25,
   "metadata": {},
   "outputs": [
    {
     "name": "stdout",
     "output_type": "stream",
     "text": [
      "Qhwd: 743.058242263447\n",
      "Qdm: 48227.98444535165\n"
     ]
    }
   ],
   "source": [
    "#print('\\nQhw:', Qhw)\n",
    "#print('Qhw67:', Qhw67)\n",
    "Qhwd=Qhw67-Qhw\n",
    "dfC.loc[0, 'Qhwd'] = Qhwd\n",
    "print('Qhwd:', Qhwd)\n",
    "Qd = Qf + Qe\n",
    "dfC.loc[0, 'Qd'] = Qd\n",
    "#print('Qd:', Qd)\n",
    "#Qdm = Qd + Qhwd\n",
    "Qdm = Qf + Qhwd\n",
    "dfC.loc[0, 'Qdm'] = Qdm\n",
    "print('Qdm:', Qdm)"
   ]
  },
  {
   "cell_type": "code",
   "execution_count": 26,
   "metadata": {},
   "outputs": [
    {
     "name": "stdout",
     "output_type": "stream",
     "text": [
      "UEF:0.9665380196882862\n"
     ]
    }
   ],
   "source": [
    "UEF=0\n",
    "UEF1=0\n",
    "UEF2=0\n",
    "UEFii=dict()\n",
    "for i in range(1,15):\n",
    "    Mi = dfC.loc[i, 'Mass Water']\n",
    "    #print('Mi:', Mi)\n",
    "    \n",
    "    AvgTmp = round((dfC.loc[idx1:idx2, 'Tout'].mean()+dfC.loc[idx1:idx2, 'Tin'].mean())/2,1)\n",
    "    Cpi = dfZ.loc[dfZ['T']==AvgTmp, 'Cp'].values[0]\n",
    "    dfC.loc[0, 'Cp('+str(i)+')']=Cpi\n",
    "    #print('Cpi:', Cpi)\n",
    "    \n",
    "    UEFi = Mi*Cpi*67/Qdm\n",
    "    UEF += UEFi\n",
    "    #print('UEF',i,Mi*Cpi*67/Qdm)\n",
    "    if i==1 or i==5 or i==14:\n",
    "        UEF1 += UEFi\n",
    "    if i==1 or i==5 or i==14 or i==4 or i==6:\n",
    "        UEF2 += UEFi\n",
    "    UEFii[i]=UEFi\n",
    "\n",
    "\n",
    "dfC.loc[0, 'UEF'] = UEF\n",
    "dfC.loc[0, 'UEF(1-5-14)'] = round(UEF1/UEF*100,2)\n",
    "dfC.loc[0, 'UEF(1-5-14-4-6)'] = round(UEF2/UEF*100,2)\n",
    "print('UEF:' + str(UEF))"
   ]
  },
  {
   "cell_type": "code",
   "execution_count": 30,
   "metadata": {},
   "outputs": [],
   "source": [
    "#Creating columns of parameters per draw\n",
    "dfC['Mi']=0\n",
    "dfC['Cpi']=0\n",
    "dfC['Tdeltai']=0\n",
    "dfC['Qhwi']=0\n",
    "dfC['Qhw67i']=0\n",
    "dfC['Qhwdi']=0\n",
    "dfC['UEFi']=0\n",
    "\n",
    "for idx in range(0, len(dfC.Draw)):\n",
    "    if dfC.loc[idx, 'Draw no']!=0:\n",
    "        key=dfC.loc[idx, 'Draw no']\n",
    "        dfC.loc[idx, 'Mi']=Mii[key]\n",
    "        dfC.loc[idx, 'Cpi']=Cpii[key]\n",
    "        dfC.loc[idx, 'Tdeltai']=Tdeltaii[key]\n",
    "        dfC.loc[idx, 'Qhwi']=Qhwii[key]\n",
    "        dfC.loc[idx, 'Qhw67i']=Qhw67ii[key]\n",
    "        dfC.loc[idx, 'Qhwdi']=Qhwdii[key]\n",
    "        dfC.loc[idx, 'UEFi']=UEFii[key]"
   ]
  },
  {
   "cell_type": "code",
   "execution_count": 31,
   "metadata": {},
   "outputs": [],
   "source": [
    "dfC.loc[0, 'Validity']='Valid'\n",
    "\n",
    "#Check if Room Temperature in range 68+/-2.05 and draws are 14 or (more?)\n",
    "if not dfC['Ambient TC'].astype('int64').between(68-2.05,68+2.05).any() or max(dfC['Draw no'].astype('int64').values)<14:\n",
    "    dfC.loc[0, 'Validity']='Not Valid'\n",
    "#If it's still valid then check Tin during draws if it's in range 58+/-2.05\n",
    "else:\n",
    "    for idx in range(0, len(dfC.Draw)):\n",
    "        if dfC.loc[idx, 'Draw no']!=0:\n",
    "            if not (dfC.loc[idx, 'Tin'] >= 58-2.05 and dfC.loc[idx, 'Tin'] <= 58+2.05):\n",
    "                dfC.loc[0, 'Validity']='Not Valid'\n",
    "                print(idx)\n",
    "                break"
   ]
  },
  {
   "cell_type": "code",
   "execution_count": 32,
   "metadata": {},
   "outputs": [
    {
     "data": {
      "text/plain": [
       "array(['Valid', nan], dtype=object)"
      ]
     },
     "execution_count": 32,
     "metadata": {},
     "output_type": "execute_result"
    }
   ],
   "source": [
    "dfC['Validity'].unique()"
   ]
  },
  {
   "cell_type": "code",
   "execution_count": 47,
   "metadata": {},
   "outputs": [],
   "source": [
    "dfC.to_csv(fileNameC, index=False)"
   ]
  },
  {
   "cell_type": "code",
   "execution_count": 48,
   "metadata": {},
   "outputs": [
    {
     "ename": "NameError",
     "evalue": "name 'data' is not defined",
     "output_type": "error",
     "traceback": [
      "\u001b[1;31m---------------------------------------------------------------------------\u001b[0m",
      "\u001b[1;31mNameError\u001b[0m                                 Traceback (most recent call last)",
      "\u001b[1;32m<ipython-input-48-2838ede9f9a6>\u001b[0m in \u001b[0;36m<module>\u001b[1;34m\u001b[0m\n\u001b[0;32m      1\u001b[0m \u001b[0mfig\u001b[0m\u001b[1;33m,\u001b[0m \u001b[0max\u001b[0m \u001b[1;33m=\u001b[0m \u001b[0mplt\u001b[0m\u001b[1;33m.\u001b[0m\u001b[0msubplots\u001b[0m\u001b[1;33m(\u001b[0m\u001b[0mfigsize\u001b[0m\u001b[1;33m=\u001b[0m\u001b[1;33m(\u001b[0m\u001b[1;36m14\u001b[0m\u001b[1;33m,\u001b[0m\u001b[1;36m8\u001b[0m\u001b[1;33m)\u001b[0m\u001b[1;33m)\u001b[0m\u001b[1;33m\u001b[0m\u001b[1;33m\u001b[0m\u001b[0m\n\u001b[1;32m----> 2\u001b[1;33m \u001b[0mcorrelation_matrix\u001b[0m \u001b[1;33m=\u001b[0m \u001b[0mdata\u001b[0m\u001b[1;33m.\u001b[0m\u001b[0mcorr\u001b[0m\u001b[1;33m(\u001b[0m\u001b[1;33m)\u001b[0m\u001b[1;33m.\u001b[0m\u001b[0mround\u001b[0m\u001b[1;33m(\u001b[0m\u001b[1;36m2\u001b[0m\u001b[1;33m)\u001b[0m\u001b[1;33m\u001b[0m\u001b[1;33m\u001b[0m\u001b[0m\n\u001b[0m\u001b[0;32m      3\u001b[0m \u001b[0msns\u001b[0m\u001b[1;33m.\u001b[0m\u001b[0mheatmap\u001b[0m\u001b[1;33m(\u001b[0m\u001b[0mdata\u001b[0m\u001b[1;33m=\u001b[0m\u001b[0mcorrelation_matrix\u001b[0m\u001b[1;33m,\u001b[0m \u001b[0mannot\u001b[0m\u001b[1;33m=\u001b[0m\u001b[1;32mTrue\u001b[0m\u001b[1;33m)\u001b[0m\u001b[1;33m\u001b[0m\u001b[1;33m\u001b[0m\u001b[0m\n",
      "\u001b[1;31mNameError\u001b[0m: name 'data' is not defined"
     ]
    },
    {
     "data": {
      "image/png": "[encoded data removed]",
      "text/plain": [
       "<Figure size 1008x576 with 1 Axes>"
      ]
     },
     "metadata": {
      "needs_background": "light"
     },
     "output_type": "display_data"
    }
   ],
   "source": [
    "fig, ax = plt.subplots(figsize=(14,8))\n",
    "correlation_matrix = data.corr().round(2)\n",
    "sns.heatmap(data=correlation_matrix, annot=True)"
   ]
  },
  {
   "cell_type": "code",
   "execution_count": null,
   "metadata": {},
   "outputs": [],
   "source": []
  }
 ],
 "metadata": {
  "kernelspec": {
   "display_name": "Python 3",
   "language": "python",
   "name": "python3"
  },
  "language_info": {
   "codemirror_mode": {
    "name": "ipython",
    "version": 3
   },
   "file_extension": ".py",
   "mimetype": "text/x-python",
   "name": "python",
   "nbconvert_exporter": "python",
   "pygments_lexer": "ipython3",
   "version": "3.7.3"
  }
 },
 "nbformat": 4,
 "nbformat_minor": 2
}
