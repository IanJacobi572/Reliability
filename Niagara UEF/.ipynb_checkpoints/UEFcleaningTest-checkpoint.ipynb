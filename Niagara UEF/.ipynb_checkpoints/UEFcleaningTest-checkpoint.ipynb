{
 "cells": [
  {
   "cell_type": "code",
   "execution_count": 1,
   "metadata": {},
   "outputs": [],
   "source": [
    "import pandas as pd\n",
    "import os"
   ]
  },
  {
   "cell_type": "code",
   "execution_count": 2,
   "metadata": {
    "scrolled": false
   },
   "outputs": [],
   "source": [
    "#fileName = 'ST4 ICN 10289 RTGH-S11iS1-6882.SM22014.csv'\n",
    "fileName = 'ST Q3  ICN9430 MISSISSIPPI PROTOS1-0661.SM22014.csv'\n",
    "\n",
    "dfC = pd.read_csv(fileName)"
   ]
  },
  {
   "cell_type": "code",
   "execution_count": 3,
   "metadata": {},
   "outputs": [
    {
     "name": "stdout",
     "output_type": "stream",
     "text": [
      "Station: ['ST Q3 ']\n",
      "Unit Name: ['ICN 9430']\n",
      "Model: ['PROTOS1']\n",
      "Iteration: ['0661']\n"
     ]
    }
   ],
   "source": [
    "split = fileName.split(\" \")\n",
    "\n",
    "dfC = dfC[['TimeStamp (sec)', 'Ambient TC', 'Gas TC', 'Barometer', 'Gas ascf', 'WattHrs', \n",
    "      'Water (Gallons)', 'Watts', 'Water Flow (GPM)', 'Tin', 'Tout', 'Tank Outlet', 'UTstat', 'Purge Valve', \n",
    "      'Drain Valve', 'Drawn Water (Gallons)']].copy()\n",
    "\n",
    "for index in range(0, len(split)):\n",
    "    if 'ICN' in split[index]:\n",
    "        dfC['Station'] = ' '.join(split[0:index])\n",
    "    if 'ICN' in split[index] and len(split[index]) > 3:\n",
    "        name = ''.join(split[index])\n",
    "        dfC['Unit Name'] = name[:3] + ' ' + name[3:]\n",
    "    if 'ICN' in split[index] and len(split[index]) == 3:\n",
    "        dfC['Unit Name'] = ' '.join(split[index:index+2])\n",
    "subsplit = split[-1:][0].split('.')[0].split('-')\n",
    "if len('-'.join(subsplit[:-1]))<6:\n",
    "    dfC['Model'] = split[-2] + '-' + ''.join(subsplit[:-1])\n",
    "else: \n",
    "    dfC['Model'] = '-'.join(subsplit[:-1])\n",
    "dfC['Iteration'] = subsplit[-1]\n",
    "print('Station:', dfC.Station.unique())\n",
    "print('Unit Name:', dfC['Unit Name'].unique())\n",
    "print('Model:', dfC.Model.unique())\n",
    "print('Iteration:', dfC['Iteration'].unique())"
   ]
  },
  {
   "cell_type": "code",
   "execution_count": 4,
   "metadata": {},
   "outputs": [],
   "source": [
    "dfC['TimeStamp (hrs)'] = dfC['TimeStamp (sec)']/3600"
   ]
  },
  {
   "cell_type": "code",
   "execution_count": 5,
   "metadata": {},
   "outputs": [],
   "source": [
    "dfC.to_csv('R'+fileName,index=False)"
   ]
  },
  {
   "cell_type": "code",
   "execution_count": null,
   "metadata": {},
   "outputs": [],
   "source": []
  }
 ],
 "metadata": {
  "kernelspec": {
   "display_name": "Python 3",
   "language": "python",
   "name": "python3"
  },
  "language_info": {
   "codemirror_mode": {
    "name": "ipython",
    "version": 3
   },
   "file_extension": ".py",
   "mimetype": "text/x-python",
   "name": "python",
   "nbconvert_exporter": "python",
   "pygments_lexer": "ipython3",
   "version": "3.7.3"
  }
 },
 "nbformat": 4,
 "nbformat_minor": 2
}
