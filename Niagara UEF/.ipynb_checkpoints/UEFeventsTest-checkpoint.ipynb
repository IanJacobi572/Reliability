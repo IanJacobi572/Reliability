{
 "cells": [
  {
   "cell_type": "code",
   "execution_count": 1,
   "metadata": {},
   "outputs": [],
   "source": [
    "import pandas as pd\n",
    "import os\n",
    "import numpy as np"
   ]
  },
  {
   "cell_type": "code",
   "execution_count": 2,
   "metadata": {},
   "outputs": [],
   "source": [
    "def find_nearest(array, value):\n",
    "    idx = np.searchsorted(array, value, side=\"left\")\n",
    "    try: \n",
    "        if isclose(array[idx], value, abs_tol=1):\n",
    "            return idx\n",
    "    except:\n",
    "        pass\n",
    "    return idx-1"
   ]
  },
  {
   "cell_type": "code",
   "execution_count": 3,
   "metadata": {},
   "outputs": [],
   "source": [
    "#fileNameC = 'RST4 ICN 10289 RTGH-S11iS1-6882.SM22014.csv'\n",
    "#fileNameE = 'EST4 ICN 10289 RTGH-S11iS1-6882.SM22014.csv'\n",
    "fileNameC = 'RST Q3  ICN9430 MISSISSIPPI PROTOS1-0661.SM22014.csv'\n",
    "fileNameE = 'EST Q3  ICN9430 MISSISSIPPI PROTOS1-0661.SM22014.csv'\n",
    "\n",
    "dfC = pd.read_csv(fileNameC)\n",
    "dfE = pd.read_csv(fileNameE)"
   ]
  },
  {
   "cell_type": "code",
   "execution_count": 4,
   "metadata": {},
   "outputs": [],
   "source": [
    "events = ['Purge', 'Draw', 'Cut']\n",
    "startings = ['Starting Purge', 'Starting Draw', 'Cut IN']\n",
    "endings = ['Ending Purge', 'Draw Complete', 'Cut OUT']\n",
    "\n",
    "for event, starting, ending in zip(events, startings, endings):\n",
    "    dfC[event+' no']=0\n",
    "    #Indecies of event\n",
    "    starting_indeces = dfE.loc[dfE['Desc'].str.contains(starting)]\n",
    "    ending_indeces = dfE.loc[dfE['Desc'].str.contains(ending)]\n",
    "    for i, j in zip(range(0, len(starting_indeces)), range(0, len(ending_indeces))):\n",
    "        start_event_time = starting_indeces.iloc[i][1]\n",
    "        end_event_time = ending_indeces.iloc[j][1]\n",
    "        start_idx = find_nearest(dfC['TimeStamp (sec)'].values, start_event_time)\n",
    "        end_idx = find_nearest(dfC['TimeStamp (sec)'].values, end_event_time)\n",
    "        dfC.loc[start_idx:end_idx, event+' no']=i+1\n",
    "        dfC.loc[start_idx:end_idx, event]=event+str(i+1)\n",
    "\n",
    "#Create a 'Waiting For T' column\n",
    "dfC['Waiting for T']=0\n",
    "indeces = dfE.loc[dfE['Desc'].str.contains('Waiting for T')]\n",
    "for i in range(0, len(indeces)):\n",
    "    time = indeces.iloc[i][1] \n",
    "    idx = find_nearest(dfC['TimeStamp (sec)'].values, time)\n",
    "    dfC.loc[idx, 'Waiting for T']=str(i+1)"
   ]
  },
  {
   "cell_type": "code",
   "execution_count": 5,
   "metadata": {},
   "outputs": [],
   "source": [
    "dfC.to_csv(fileNameC,index=False)"
   ]
  },
  {
   "cell_type": "code",
   "execution_count": null,
   "metadata": {},
   "outputs": [],
   "source": []
  }
 ],
 "metadata": {
  "kernelspec": {
   "display_name": "Python 3",
   "language": "python",
   "name": "python3"
  },
  "language_info": {
   "codemirror_mode": {
    "name": "ipython",
    "version": 3
   },
   "file_extension": ".py",
   "mimetype": "text/x-python",
   "name": "python",
   "nbconvert_exporter": "python",
   "pygments_lexer": "ipython3",
   "version": "3.7.3"
  }
 },
 "nbformat": 4,
 "nbformat_minor": 2
}
