{
 "cells": [
  {
   "cell_type": "code",
   "execution_count": 18,
   "metadata": {},
   "outputs": [],
   "source": [
    "import pandas as pd \n",
    "import os\n",
    "from nptdms import TdmsFile\n",
    "\n",
    "entry = 'ST4 ICN 10289 RTGH-S11iS1-6882.SM22014.tdms'\n",
    "tdms_file = TdmsFile(entry)\n",
    "for group in tdms_file.groups():\n",
    "    data = tdms_file.object(group).as_dataframe()\n",
    "    if group == 'Events':\n",
    "        data[\"TimeStamp\"] = data[\"TimeStamp\"].astype(float).values - float(data[\"TimeStamp\"].values[0])\n",
    "    if group == 'Channels':\n",
    "        data[\"TimeStamp (sec)\"] = data[\"TimeStamp (sec)\"].values - data[\"TimeStamp (sec)\"].values[0]\n",
    "    if not os.path.exists('C:/Users/anes.madani/Desktop/Anes/UEF' + group):\n",
    "        os.makedirs('C:/Users/anes.madani/Desktop/Anes/UEF' + group)\n",
    "    name = entry.split('\\\\')[-1]\n",
    "    data.to_csv('C:/Users/anes.madani/Desktop/Anes/UEF' +group + \"/\" + name[:-5] +\".csv\")"
   ]
  },
  {
   "cell_type": "code",
   "execution_count": null,
   "metadata": {},
   "outputs": [],
   "source": []
  }
 ],
 "metadata": {
  "kernelspec": {
   "display_name": "Python 3",
   "language": "python",
   "name": "python3"
  },
  "language_info": {
   "codemirror_mode": {
    "name": "ipython",
    "version": 3
   },
   "file_extension": ".py",
   "mimetype": "text/x-python",
   "name": "python",
   "nbconvert_exporter": "python",
   "pygments_lexer": "ipython3",
   "version": "3.7.3"
  }
 },
 "nbformat": 4,
 "nbformat_minor": 2
}
